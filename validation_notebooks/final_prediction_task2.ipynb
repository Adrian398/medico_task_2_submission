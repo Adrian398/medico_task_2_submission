{
 "cells": [
  {
   "cell_type": "code",
   "execution_count": null,
   "metadata": {
    "colab": {
     "base_uri": "https://localhost:8080/"
    },
    "executionInfo": {
     "elapsed": 1495,
     "status": "ok",
     "timestamp": 1606080196579,
     "user": {
      "displayName": "Adrian Krenzer",
      "photoUrl": "https://lh3.googleusercontent.com/a-/AOh14Gh-v5oVbrNvjunbrJs1rTR-dzc1UGnB09j-WhM5=s64",
      "userId": "00953746210289127062"
     },
     "user_tz": -60
    },
    "id": "t14J85k9Nzrp",
    "outputId": "7c688a88-8bdb-4fe6-af6f-238da80297f1"
   },
   "outputs": [],
   "source": [
    "!nvidia-smi"
   ]
  },
  {
   "cell_type": "code",
   "execution_count": null,
   "metadata": {},
   "outputs": [],
   "source": [
    "!python3"
   ]
  },
  {
   "cell_type": "code",
   "execution_count": 7,
   "metadata": {},
   "outputs": [
    {
     "name": "stdout",
     "output_type": "stream",
     "text": [
      "datasets  experiments_gpu_server  validation_notebooks\r\n"
     ]
    }
   ],
   "source": [
    "!ls"
   ]
  },
  {
   "cell_type": "code",
   "execution_count": 6,
   "metadata": {
    "colab": {
     "base_uri": "https://localhost:8080/"
    },
    "executionInfo": {
     "elapsed": 25128,
     "status": "ok",
     "timestamp": 1606051969583,
     "user": {
      "displayName": "Adrian Krenzer",
      "photoUrl": "https://lh3.googleusercontent.com/a-/AOh14Gh-v5oVbrNvjunbrJs1rTR-dzc1UGnB09j-WhM5=s64",
      "userId": "00953746210289127062"
     },
     "user_tz": -60
    },
    "id": "Vi4RL47Uu2f-",
    "outputId": "f0c53d39-4f3a-4704-ecef-f7e0a6f151e0"
   },
   "outputs": [],
   "source": [
    "import os\n",
    "os.chdir(\"..\")"
   ]
  },
  {
   "cell_type": "code",
   "execution_count": 8,
   "metadata": {
    "colab": {
     "base_uri": "https://localhost:8080/"
    },
    "executionInfo": {
     "elapsed": 16436,
     "status": "ok",
     "timestamp": 1606051986025,
     "user": {
      "displayName": "Adrian Krenzer",
      "photoUrl": "https://lh3.googleusercontent.com/a-/AOh14Gh-v5oVbrNvjunbrJs1rTR-dzc1UGnB09j-WhM5=s64",
      "userId": "00953746210289127062"
     },
     "user_tz": -60
    },
    "id": "XM1nv1pvvAjE",
    "outputId": "b0997e2f-1944-4ee8-9ded-1f10c7b46b2d"
   },
   "outputs": [
    {
     "name": "stdout",
     "output_type": "stream",
     "text": [
      "Collecting torch\n",
      "  Using cached torch-1.7.0-cp38-cp38-manylinux1_x86_64.whl (776.8 MB)\n",
      "Collecting torchvision\n",
      "  Using cached torchvision-0.8.1-cp38-cp38-manylinux1_x86_64.whl (12.8 MB)\n",
      "Collecting numpy\n",
      "  Using cached numpy-1.19.4-cp38-cp38-manylinux2010_x86_64.whl (14.5 MB)\n",
      "Collecting dataclasses\n",
      "  Using cached dataclasses-0.6-py3-none-any.whl (14 kB)\n",
      "Collecting typing-extensions\n",
      "  Using cached typing_extensions-3.7.4.3-py3-none-any.whl (22 kB)\n",
      "Processing /home/inexen/.cache/pip/wheels/8e/70/28/3d6ccd6e315f65f245da085482a2e1c7d14b90b30f239e2cf4/future-0.18.2-py3-none-any.whl\n",
      "Collecting pillow>=4.1.1\n",
      "  Using cached Pillow-8.0.1-cp38-cp38-manylinux1_x86_64.whl (2.2 MB)\n",
      "Installing collected packages: numpy, dataclasses, typing-extensions, future, torch, pillow, torchvision\n",
      "Successfully installed dataclasses-0.6 future-0.18.2 numpy-1.19.4 pillow-8.0.1 torch-1.7.0 torchvision-0.8.1 typing-extensions-3.7.4.3\n",
      "Collecting cython\n",
      "  Using cached Cython-0.29.21-cp38-cp38-manylinux1_x86_64.whl (1.9 MB)\n",
      "Collecting pyyaml==5.1\n",
      "  Using cached PyYAML-5.1.tar.gz (274 kB)\n",
      "Building wheels for collected packages: pyyaml\n",
      "  Building wheel for pyyaml (setup.py) ... \u001b[?25ldone\n",
      "\u001b[?25h  Created wheel for pyyaml: filename=PyYAML-5.1-cp38-cp38-linux_x86_64.whl size=44073 sha256=64be6f4d71cbe02e92b1343693956a5de43c424943b1ea1386cbf7e65152ddfc\n",
      "  Stored in directory: /home/inexen/.cache/pip/wheels/52/dd/2b/10ff8b0ac81b93946bb5fb9e6749bae2dac246506c8774e6cf\n",
      "Successfully built pyyaml\n",
      "Installing collected packages: cython, pyyaml\n",
      "Successfully installed cython-0.29.21 pyyaml-5.1\n",
      "Collecting git+https://github.com/cocodataset/cocoapi.git#subdirectory=PythonAPI\n",
      "  Cloning https://github.com/cocodataset/cocoapi.git to /tmp/pip-req-build-9sic0v33\n",
      "Requirement already satisfied, skipping upgrade: setuptools>=18.0 in /home/inexen/anaconda3/envs/medico2/lib/python3.8/site-packages (from pycocotools==2.0) (50.3.1.post20201107)\n",
      "Requirement already satisfied, skipping upgrade: cython>=0.27.3 in /home/inexen/anaconda3/envs/medico2/lib/python3.8/site-packages (from pycocotools==2.0) (0.29.21)\n",
      "Collecting matplotlib>=2.1.0\n",
      "  Downloading matplotlib-3.3.3-cp38-cp38-manylinux1_x86_64.whl (11.6 MB)\n",
      "\u001b[K     |████████████████████████████████| 11.6 MB 2.9 MB/s eta 0:00:01\n",
      "\u001b[?25hRequirement already satisfied, skipping upgrade: numpy>=1.15 in /home/inexen/anaconda3/envs/medico2/lib/python3.8/site-packages (from matplotlib>=2.1.0->pycocotools==2.0) (1.19.4)\n",
      "Requirement already satisfied, skipping upgrade: python-dateutil>=2.1 in /home/inexen/anaconda3/envs/medico2/lib/python3.8/site-packages (from matplotlib>=2.1.0->pycocotools==2.0) (2.8.1)\n",
      "Requirement already satisfied, skipping upgrade: pillow>=6.2.0 in /home/inexen/anaconda3/envs/medico2/lib/python3.8/site-packages (from matplotlib>=2.1.0->pycocotools==2.0) (8.0.1)\n",
      "Collecting kiwisolver>=1.0.1\n",
      "  Using cached kiwisolver-1.3.1-cp38-cp38-manylinux1_x86_64.whl (1.2 MB)\n",
      "Collecting cycler>=0.10\n",
      "  Using cached cycler-0.10.0-py2.py3-none-any.whl (6.5 kB)\n",
      "Requirement already satisfied, skipping upgrade: pyparsing!=2.0.4,!=2.1.2,!=2.1.6,>=2.0.3 in /home/inexen/anaconda3/envs/medico2/lib/python3.8/site-packages (from matplotlib>=2.1.0->pycocotools==2.0) (2.4.7)\n",
      "Requirement already satisfied, skipping upgrade: six>=1.5 in /home/inexen/anaconda3/envs/medico2/lib/python3.8/site-packages (from python-dateutil>=2.1->matplotlib>=2.1.0->pycocotools==2.0) (1.15.0)\n",
      "Building wheels for collected packages: pycocotools\n",
      "  Building wheel for pycocotools (setup.py) ... \u001b[?25ldone\n",
      "\u001b[?25h  Created wheel for pycocotools: filename=pycocotools-2.0-cp38-cp38-linux_x86_64.whl size=310132 sha256=1810b055475358b1d4c1908cc91f2479b1741b505afe5bb7c4f0baa8e5f496bb\n",
      "  Stored in directory: /tmp/pip-ephem-wheel-cache-iw20uy6f/wheels/56/da/49/cb71a7c450b59588934077f431100c05fbde50646ee84a8d40\n",
      "Successfully built pycocotools\n",
      "Installing collected packages: kiwisolver, cycler, matplotlib, pycocotools\n",
      "Successfully installed cycler-0.10.0 kiwisolver-1.3.1 matplotlib-3.3.3 pycocotools-2.0\n"
     ]
    }
   ],
   "source": [
    "!pip install torch torchvision\n",
    "# install dependencies: (use cu100 because colab is on CUDA 10.0)\n",
    "!pip install cython pyyaml==5.1\n",
    "!pip install -U 'git+https://github.com/cocodataset/cocoapi.git#subdirectory=PythonAPI'\n",
    "\n",
    "#torch.__version__\n",
    "#!gcc --version\n",
    "# opencv is pre-installed on colab\n",
    "\n",
    "\n",
    "# install detectron2:\n",
    "#!pip install detectron2==0.1.3 -f https://dl.fbaipublicfiles.com/detectron2/wheels/cu101/index.html"
   ]
  },
  {
   "cell_type": "code",
   "execution_count": 10,
   "metadata": {
    "id": "xWNmUwgDxAaT"
   },
   "outputs": [
    {
     "ename": "ModuleNotFoundError",
     "evalue": "No module named 'cv2'",
     "output_type": "error",
     "traceback": [
      "\u001b[0;31m---------------------------------------------------------------------------\u001b[0m",
      "\u001b[0;31mModuleNotFoundError\u001b[0m                       Traceback (most recent call last)",
      "\u001b[0;32m<ipython-input-10-b1e767c1079b>\u001b[0m in \u001b[0;36m<module>\u001b[0;34m\u001b[0m\n\u001b[1;32m      9\u001b[0m \u001b[0;31m# import some common libraries\u001b[0m\u001b[0;34m\u001b[0m\u001b[0;34m\u001b[0m\u001b[0;34m\u001b[0m\u001b[0m\n\u001b[1;32m     10\u001b[0m \u001b[0;32mimport\u001b[0m \u001b[0mnumpy\u001b[0m \u001b[0;32mas\u001b[0m \u001b[0mnp\u001b[0m\u001b[0;34m\u001b[0m\u001b[0;34m\u001b[0m\u001b[0m\n\u001b[0;32m---> 11\u001b[0;31m \u001b[0;32mimport\u001b[0m \u001b[0mcv2\u001b[0m\u001b[0;34m\u001b[0m\u001b[0;34m\u001b[0m\u001b[0m\n\u001b[0m\u001b[1;32m     12\u001b[0m \u001b[0;32mimport\u001b[0m \u001b[0mrandom\u001b[0m\u001b[0;34m\u001b[0m\u001b[0;34m\u001b[0m\u001b[0m\n\u001b[1;32m     13\u001b[0m \u001b[0;32mfrom\u001b[0m \u001b[0mgoogle\u001b[0m\u001b[0;34m.\u001b[0m\u001b[0mcolab\u001b[0m\u001b[0;34m.\u001b[0m\u001b[0mpatches\u001b[0m \u001b[0;32mimport\u001b[0m \u001b[0mcv2_imshow\u001b[0m\u001b[0;34m\u001b[0m\u001b[0;34m\u001b[0m\u001b[0m\n",
      "\u001b[0;31mModuleNotFoundError\u001b[0m: No module named 'cv2'"
     ]
    }
   ],
   "source": [
    "# You may need to restart your runtime prior to this, to let your installation take effect\n",
    "# Some basic setup:\n",
    "# Setup detectron2 logger\n",
    "import detectron2\n",
    "from detectron2.utils.logger import setup_logger\n",
    "setup_logger()\n",
    "import torch, torchvision\n",
    "\n",
    "# import some common libraries\n",
    "import numpy as np\n",
    "import cv2\n",
    "import random\n",
    "from google.colab.patches import cv2_imshow\n",
    "\n",
    "# import some common detectron2 utilities\n",
    "from detectron2 import model_zoo\n",
    "from detectron2.engine import DefaultPredictor\n",
    "from detectron2.config import get_cfg\n",
    "from detectron2.utils.visualizer import Visualizer\n",
    "from detectron2.data import MetadataCatalog"
   ]
  },
  {
   "cell_type": "code",
   "execution_count": null,
   "metadata": {
    "colab": {
     "base_uri": "https://localhost:8080/"
    },
    "executionInfo": {
     "elapsed": 174415,
     "status": "ok",
     "timestamp": 1606052146633,
     "user": {
      "displayName": "Adrian Krenzer",
      "photoUrl": "https://lh3.googleusercontent.com/a-/AOh14Gh-v5oVbrNvjunbrJs1rTR-dzc1UGnB09j-WhM5=s64",
      "userId": "00953746210289127062"
     },
     "user_tz": -60
    },
    "id": "2I7HPsOFxJJz",
    "outputId": "a9c66fca-d44c-4ccd-8835-bb28ddf4eace"
   },
   "outputs": [],
   "source": [
    "!pip install tifffile"
   ]
  },
  {
   "cell_type": "markdown",
   "metadata": {
    "id": "BC5Azja2Noz_"
   },
   "source": [
    "# Predict with model on test data\n",
    "\n"
   ]
  },
  {
   "cell_type": "code",
   "execution_count": null,
   "metadata": {
    "id": "vS6sFoEFw0I0"
   },
   "outputs": [],
   "source": [
    "from detectron2.data.datasets import register_coco_instances\n",
    "#register_coco_instances(\"val\", {}, \"datasets/polyps2.json\", \"datasets/polyps2\")\n",
    "register_coco_instances(\"train\", {}, \"datasets/kvasir_train_corrected.json\", \"datasets/Kvasir-SEG\")"
   ]
  },
  {
   "cell_type": "code",
   "execution_count": null,
   "metadata": {
    "colab": {
     "base_uri": "https://localhost:8080/"
    },
    "executionInfo": {
     "elapsed": 55901,
     "status": "ok",
     "timestamp": 1606052202549,
     "user": {
      "displayName": "Adrian Krenzer",
      "photoUrl": "https://lh3.googleusercontent.com/a-/AOh14Gh-v5oVbrNvjunbrJs1rTR-dzc1UGnB09j-WhM5=s64",
      "userId": "00953746210289127062"
     },
     "user_tz": -60
    },
    "id": "AnNd7ITnS-XZ",
    "outputId": "ecfc9f9a-1143-453d-bc93-23f39c322a7d"
   },
   "outputs": [],
   "source": [
    "from detectron2.config import get_cfg\n",
    "from detectron2.engine import DefaultTrainer, SimpleTrainer\n",
    "from detectron2.evaluation import COCOEvaluator, inference_on_dataset, SemSegEvaluator\n",
    "from detectron2.data import build_detection_test_loader\n",
    "\n",
    "experiment = 'mask_cascade_rcnn_ResNeSt_50_FPN_syncBN_1x'\n",
    "\n",
    "cfg = get_cfg()\n",
    "cfg.merge_from_file(model_zoo.get_config_file(\"COCO-InstanceSegmentation/\" + experiment + \".yaml\"))\n",
    "cfg.DATALOADER.NUM_WORKERS = 2\n",
    "cfg.SOLVER.IMS_PER_BATCH = 2\n",
    "cfg.SOLVER.BASE_LR = 0.00025  # pick a good LR\n",
    "cfg.SOLVER.MAX_ITER = 10000    # 300 iterations seems good enough for this toy dataset; you may need to train longer for a practical dataset\n",
    "cfg.MODEL.ROI_HEADS.BATCH_SIZE_PER_IMAGE = 512   # faster, and good enough for this toy dataset (default: 512)\n",
    "cfg.MODEL.ROI_HEADS.NUM_CLASSES = 1  # only has one class (ballon)\n",
    "\n",
    "cfg.OUTPUT_DIR = 'experiments_gpu_server/' + experiment\n",
    "\n",
    "cfg.MODEL.WEIGHTS = os.path.join('experiments_gpu_server/' + experiment, \"model_0002799.pth\")\n",
    "\n",
    "cfg.DATASETS.TRAIN = (\"train\",)\n",
    "\n",
    "trainer = DefaultTrainer(cfg) \n",
    "trainer.resume_or_load(resume=False)\n",
    "# another equivalent way is to use trainer.test"
   ]
  },
  {
   "cell_type": "code",
   "execution_count": null,
   "metadata": {
    "id": "VD6GjYK_N29F"
   },
   "outputs": [],
   "source": [
    "path = 'datasets/polyps2/'\n",
    "val_data = os.listdir(path)\n",
    "_ = sorted(val_data)"
   ]
  },
  {
   "cell_type": "code",
   "execution_count": null,
   "metadata": {
    "colab": {
     "base_uri": "https://localhost:8080/"
    },
    "executionInfo": {
     "elapsed": 462607,
     "status": "ok",
     "timestamp": 1606052706133,
     "user": {
      "displayName": "Adrian Krenzer",
      "photoUrl": "https://lh3.googleusercontent.com/a-/AOh14Gh-v5oVbrNvjunbrJs1rTR-dzc1UGnB09j-WhM5=s64",
      "userId": "00953746210289127062"
     },
     "user_tz": -60
    },
    "id": "bOgXgAxETW8N",
    "outputId": "b30b750d-b0f7-4bec-d6ec-cb228535272a"
   },
   "outputs": [],
   "source": [
    "import time\n",
    "import tifffile\n",
    "from detectron2.utils.visualizer import ColorMode\n",
    "predictor = DefaultPredictor(cfg)\n",
    "\n",
    "time_taken = []\n",
    "\n",
    "Dict = {0:'polyp'} \n",
    "\n",
    "output_folder = '/prediction_masks_2799/'\n",
    "os.makedirs(cfg.OUTPUT_DIR+ output_folder, exist_ok=True)\n",
    "for img_path in val_data: \n",
    "    if img_path.endswith('.jpg'):   \n",
    "        print(img_path)\n",
    "        im = cv2.imread(path + img_path)\n",
    "        start_time = time.time()\n",
    "        outputs = predictor(im)\n",
    "        end_time = time.time() - start_time\n",
    "        time_taken.append(end_time)\n",
    "        txt_fullpath = cfg.OUTPUT_DIR + output_folder + os.path.splitext(img_path)[0]+'.txt'  # eg. 0001\n",
    "\n",
    "        with open(txt_fullpath, 'w+') as file:\n",
    "            full_text = ''\n",
    "            #for i, _ in enumerate(outputs['instances'].get('pred_boxes').tensor):\n",
    "            x_min = str(int(round(outputs['instances'].get('pred_boxes').tensor[0][0].item())))\n",
    "            y_min = str(int(round(outputs['instances'].get('pred_boxes').tensor[0][1].item())))\n",
    "            x_max = str(int(round(outputs['instances'].get('pred_boxes').tensor[0][2].item())))\n",
    "            y_max = str(int(round(outputs['instances'].get('pred_boxes').tensor[0][3].item())))\n",
    "            score = str(round(outputs['instances'].get('scores')[0].item(),2))\n",
    "            object_class = int(outputs['instances'].get('pred_classes')[0].item())\n",
    "            string = Dict[object_class] + \" \" + score + \" \" + x_min + \" \" + y_min + \" \" + x_max + \" \" + y_max + '\\n'\n",
    "            full_text = full_text + string\n",
    "\n",
    "            \n",
    "            new_shape = list(im.shape)\n",
    "            new_shape[2] = 1\n",
    "            new_shape[0], new_shape[2] = new_shape[2], new_shape[0]\n",
    "            new_shape[1], new_shape[2] = new_shape[2], new_shape[1]\n",
    "            out = np.zeros(new_shape)\n",
    "            #for i, _ in enumerate(outputs[\"instances\"].get('pred_masks')):\n",
    "                \n",
    "            object_class_seg = int(outputs['instances'].get('pred_classes')[0].item())\n",
    "            out[object_class_seg,:,:] = outputs[\"instances\"].get('pred_masks')[0].to(\"cpu\").numpy()*255\n",
    "            out = out.astype(int)\n",
    "            out = np.uint8(out)\n",
    "            tifffile.imsave(cfg.OUTPUT_DIR + output_folder +img_path.split('.')[0]+'.tif', out)\n",
    "            full_text = full_text[:-2]\n",
    "            file.write(full_text)"
   ]
  },
  {
   "cell_type": "code",
   "execution_count": null,
   "metadata": {
    "colab": {
     "base_uri": "https://localhost:8080/"
    },
    "executionInfo": {
     "elapsed": 460248,
     "status": "ok",
     "timestamp": 1606052706135,
     "user": {
      "displayName": "Adrian Krenzer",
      "photoUrl": "https://lh3.googleusercontent.com/a-/AOh14Gh-v5oVbrNvjunbrJs1rTR-dzc1UGnB09j-WhM5=s64",
      "userId": "00953746210289127062"
     },
     "user_tz": -60
    },
    "id": "Jo7TdM4JKsw4",
    "outputId": "a2d8eb6c-6e87-449f-c254-cd130fee9f12"
   },
   "outputs": [],
   "source": [
    "print(time_taken)"
   ]
  },
  {
   "cell_type": "code",
   "execution_count": null,
   "metadata": {
    "colab": {
     "base_uri": "https://localhost:8080/"
    },
    "executionInfo": {
     "elapsed": 460010,
     "status": "ok",
     "timestamp": 1606052706135,
     "user": {
      "displayName": "Adrian Krenzer",
      "photoUrl": "https://lh3.googleusercontent.com/a-/AOh14Gh-v5oVbrNvjunbrJs1rTR-dzc1UGnB09j-WhM5=s64",
      "userId": "00953746210289127062"
     },
     "user_tz": -60
    },
    "id": "uWzz2oQGKw67",
    "outputId": "befb1d1f-c667-4006-c0bd-f75bb51d407e"
   },
   "outputs": [],
   "source": [
    "mean_time_taken = np.mean(time_taken)\n",
    "mean_fps = 1/mean_time_taken\n",
    "print(\"Mean time_taken:\", mean_time_taken)\n",
    "print(\"Mean FPS: \", mean_fps)"
   ]
  },
  {
   "cell_type": "code",
   "execution_count": null,
   "metadata": {
    "id": "IjDPTzeGK9SO"
   },
   "outputs": [],
   "source": []
  }
 ],
 "metadata": {
  "accelerator": "GPU",
  "colab": {
   "collapsed_sections": [],
   "machine_shape": "hm",
   "name": "final_prediction_task2.ipynb",
   "provenance": [
    {
     "file_id": "16jcaJoc6bCFAQ96jDe2HwtXj7BMD_-m5",
     "timestamp": 1582063295043
    }
   ],
   "toc_visible": true
  },
  "kernelspec": {
   "display_name": "Python 3",
   "language": "python",
   "name": "python3"
  },
  "language_info": {
   "codemirror_mode": {
    "name": "ipython",
    "version": 3
   },
   "file_extension": ".py",
   "mimetype": "text/x-python",
   "name": "python",
   "nbconvert_exporter": "python",
   "pygments_lexer": "ipython3",
   "version": "3.8.5"
  }
 },
 "nbformat": 4,
 "nbformat_minor": 1
}
